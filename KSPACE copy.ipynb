{
 "cells": [
  {
   "cell_type": "code",
   "execution_count": 79,
   "id": "0b9c3383",
   "metadata": {},
   "outputs": [],
   "source": [
    "#from dataloaders import Dataloader as DL\n",
    "import os\n",
    "from pathlib import Path\n",
    "import h5py\n",
    "import pandas as pd\n",
    "import numpy as np\n",
    "import arpespythontools as arp\n",
    "import matplotlib.pyplot as plt\n",
    "from ipywidgets import widgets, Layout, interactive_output\n",
    "import astropy "
   ]
  },
  {
   "cell_type": "code",
   "execution_count": 80,
   "id": "babb9d2a",
   "metadata": {},
   "outputs": [],
   "source": [
    "#FLAWS: IF THEY CHANGE ORGANIZATION OF HDF5 DATA, IT WILL NOT WORK!\n",
    "#HF FIlE AND MAP_DATA!!!\n",
    "global hf\n",
    "global map_data2\n",
    "global phi\n",
    "global energy\n",
    "global theta\n",
    "\n",
    "hf = h5py.File(\"20230317_00029.h5\", 'r')\n",
    "\n",
    "#FINDING MAP_DATANAME\n",
    "keys = list(hf.keys())\n",
    "map_data_name = str(list(hf['2D_Data'].keys())[0])\n",
    "#READING IN MAP_DATA\n",
    "map_data2 = hf[\"2D_Data\"][map_data_name]\n",
    "map_data2 = np.array(map_data2[:][:][:])\n",
    "\n",
    "#GETTING THE SCALEDELTA AND OFFSET RIGHT\n",
    "if hf[\"2D_Data\"][map_data_name].attrs[\"unitNames\"][0] == 'eV':\n",
    "    offset_energy = hf[\"2D_Data\"][map_data_name].attrs[\"scaleOffset\"][0]\n",
    "    scaleDelta_energy = hf[\"2D_Data\"][map_data_name].attrs[\"scaleDelta\"][0]\n",
    "    offset_theta = hf[\"2D_Data\"][map_data_name].attrs[\"scaleOffset\"][1]\n",
    "    scaleDelta_theta = hf[\"2D_Data\"][map_data_name].attrs[\"scaleDelta\"][1]\n",
    "elif hf[\"2D_Data\"][map_data_name].attrs[\"unitNames\"][1] == 'eV':\n",
    "    offset_energy = hf[\"2D_Data\"][map_data_name].attrs[\"scaleOffset\"][1]\n",
    "    scaleDelta_energy = hf[\"2D_Data\"][map_data_name].attrs[\"scaleDelta\"][1]\n",
    "    offset_theta = hf[\"2D_Data\"][map_data_name].attrs[\"scaleOffset\"][0]\n",
    "    scaleDelta_theta = hf[\"2D_Data\"][map_data_name].attrs[\"scaleDelta\"][0]\n",
    "\n",
    "#CREATES AXIS FOR PHI, ENERGY, AND THETA\n",
    "phi = np.array(hf[\"0D_Data\"][\"Slit Defl\"][:])\n",
    "energy = np.array([])\n",
    "theta = np.array([])\n",
    "\n",
    "#ASSUMING (E, THETA, PHI); MUST BE CHANGED IF NOT\n",
    "for i in range(map_data2.shape[0]):\n",
    "    energy = np.append(energy, [offset_energy + scaleDelta_energy*i])\n",
    "        \n",
    "for i in range(map_data2.shape[1]):\n",
    "    theta = np.append(theta, offset_theta + scaleDelta_theta*i)\n",
    "\n",
    "#CENTER DATA\n",
    "theta_v = 0.181*(theta - 533)"
   ]
  },
  {
   "cell_type": "markdown",
   "id": "9a6e842f",
   "metadata": {},
   "source": [
    "# ANGLE TO WAVEVECTOR"
   ]
  },
  {
   "cell_type": "code",
   "execution_count": 81,
   "id": "a460e93b",
   "metadata": {},
   "outputs": [],
   "source": [
    "def angle_to_wavevector_binding(E_pho, work_f, theta, phi):\n",
    "    #CONVERTS PIXELS TO THETA\n",
    "    global theta_v\n",
    "    \n",
    "    #print(theta_v)\n",
    "    E_k = E_pho - work_f\n",
    "    k = 0.512*np.sqrt(E_k)\n",
    "    theta_rad = np.radians(theta_v)\n",
    "    phi_rad = np.radians(phi)\n",
    "    \n",
    "    #K_x and K_Y \n",
    "    k_x = k*np.sin(theta_rad)\n",
    "    k_y = k*np.sin(phi_rad)\n",
    "    \n",
    "    #k_x = np.degrees(k_x)\n",
    "    #k_y = np.degrees(k_y)\n",
    "    return k_x, k_y\n",
    "        \n",
    "    \n",
    "global k_x\n",
    "global k_y\n",
    "\n",
    "k_x, k_y = angle_to_wavevector_binding(85, 4, theta_v, phi)"
   ]
  },
  {
   "cell_type": "markdown",
   "id": "c87241ef",
   "metadata": {},
   "source": [
    "# K_Y Vs. K_X"
   ]
  },
  {
   "cell_type": "code",
   "execution_count": 82,
   "id": "06f72120",
   "metadata": {
    "scrolled": false
   },
   "outputs": [
    {
     "data": {
      "application/vnd.jupyter.widget-view+json": {
       "model_id": "b0eed87b4801442ca89627de3e5d15f2",
       "version_major": 2,
       "version_minor": 0
      },
      "text/plain": [
       "interactive(children=(FloatSlider(value=16226.0, description='Vmax', max=100000.0, step=0.01), FloatSlider(val…"
      ]
     },
     "metadata": {},
     "output_type": "display_data"
    },
    {
     "data": {
      "text/plain": [
       "<function __main__.plt_plot(Vmax=16226, Emin=-0.44, Emax=-0.41)>"
      ]
     },
     "execution_count": 82,
     "metadata": {},
     "output_type": "execute_result"
    }
   ],
   "source": [
    "def plt_plot(Vmax = 16226, Emin = -0.44, Emax = -0.41):\n",
    "    global emin1\n",
    "    global emax2\n",
    "    global vmax1\n",
    "    \n",
    "    emin1 = Emin\n",
    "    emax2 = Emax\n",
    "    vmax1 = Vmax\n",
    "    \n",
    "    surface1 = arp.plane_slice(map_data2, energy, Emin, Emax)\n",
    "    #diff2 = arp.laplacian(surface1, phi, theta)\n",
    "    plt.figure(figsize = (8, 6))\n",
    "    fig = plt.imshow(surface1, aspect = \"auto\", vmax = Vmax, origin = 'lower', \n",
    "                     extent = [k_x[0], k_x[-1], k_y[0], k_y[-1]], cmap = 'gray')\n",
    "    \n",
    "    plt.colorbar()\n",
    "    plt.xlabel(\"Wavevector (k_x)\")\n",
    "    plt.ylabel(\"Wavevector (k_y)\")\n",
    "    \n",
    "\n",
    "widgets.interact(plt_plot, Vmax = (0, 100000, 0.01), Emin = (energy[0], energy[-1], 0.01), \n",
    "                 Emax = (energy[0], energy[-1], 0.01) )"
   ]
  },
  {
   "cell_type": "code",
   "execution_count": 44,
   "id": "1163c252",
   "metadata": {},
   "outputs": [
    {
     "data": {
      "application/vnd.jupyter.widget-view+json": {
       "model_id": "4df0361dd3394d07af35b362dc980d5c",
       "version_major": 2,
       "version_minor": 0
      },
      "text/plain": [
       "interactive(children=(FloatSlider(value=44446.47000000001, description='Vmax', max=100000.0, step=0.01), Float…"
      ]
     },
     "metadata": {},
     "output_type": "display_data"
    },
    {
     "data": {
      "text/plain": [
       "<function __main__.plt_plot(Vmax=44446.47000000001, x1=-4.504441695914476, x2=4.491807287242438, y1=-1.1926381598324156, y2=1.1926381598324156)>"
      ]
     },
     "execution_count": 44,
     "metadata": {},
     "output_type": "execute_result"
    }
   ],
   "source": [
    "def plt_plot(Vmax = vmax1, x1 = k_x[0], x2 = k_x[-1], y1 = k_y[0], y2 = k_y[-1]):\n",
    "    surface1 = arp.plane_slice(map_data2, energy, emin1, emax2)\n",
    "    #diff2 = arp.laplacian(surface1, phi, theta)\n",
    "    plt.figure(figsize = (8, 6))\n",
    "    fig = plt.imshow(surface1, aspect = \"auto\", vmax = Vmax, origin = 'lower', \n",
    "                     extent = [k_x[0], k_x[-1], k_y[0], k_y[-1]], cmap = 'gray')\n",
    "    \n",
    "    plt.colorbar()\n",
    "    plt.xlabel(\"Wavevector (k_x)\")\n",
    "    plt.ylabel(\"Wavevector (k_y)\")\n",
    "    \n",
    "    plt.xlim(x1, x2)\n",
    "    plt.ylim(y1, y2)\n",
    "\n",
    "widgets.interact(plt_plot, Vmax = (0, 100000, 0.01),\n",
    "                x1 = (k_x[0], k_x[-1], 0.01),\n",
    "                x2 = (k_x[0], k_x[-1], 0.01),\n",
    "                y1 = (k_y[0], k_y[-1], 0.01),\n",
    "                y2 = (k_y[0], k_y[-1], 0.01))"
   ]
  },
  {
   "cell_type": "markdown",
   "id": "21e5b81c",
   "metadata": {},
   "source": [
    "# Energy Vs. K_Y"
   ]
  },
  {
   "cell_type": "code",
   "execution_count": 35,
   "id": "90af1da4",
   "metadata": {},
   "outputs": [
    {
     "data": {
      "application/vnd.jupyter.widget-view+json": {
       "model_id": "bef91a87a3e2407fbcafa0869bf418c5",
       "version_major": 2,
       "version_minor": 0
      },
      "text/plain": [
       "interactive(children=(FloatSlider(value=50000.0, description='Vmax', max=1000000.0, step=0.01), FloatSlider(va…"
      ]
     },
     "metadata": {},
     "output_type": "display_data"
    },
    {
     "data": {
      "text/plain": [
       "<function __main__.plt_plot(Vmax=50000, k_x_min=-1, k_x_max=360)>"
      ]
     },
     "execution_count": 35,
     "metadata": {},
     "output_type": "execute_result"
    }
   ],
   "source": [
    "def plt_plot(Vmax = 50000, k_x_min = -1, k_x_max = 360):\n",
    "    global k_x1\n",
    "    global k_x2\n",
    "    global vmax2\n",
    "    \n",
    "    k_x1 = k_x_min\n",
    "    k_x2 = k_x_max\n",
    "    vmax2 = Vmax\n",
    "    \n",
    "    surface1 = arp.plane_slice(map_data2.transpose([1, 0,2]), k_x, k_x_min, k_x_max)\n",
    "    plt.figure(figsize = (8, 6))\n",
    "    plt.imshow(surface1, aspect = \"auto\", vmax = Vmax, origin = 'lower', extent = [k_y[0], k_y[-1], energy[0], energy[-1]], cmap = 'gray')\n",
    "    plt.xlabel(\"Wavevector (k_y)\")\n",
    "    plt.ylabel(\"Energy\")\n",
    "    plt.colorbar()\n",
    "    \n",
    "\n",
    "widgets.interact(plt_plot, Vmin = 0, Vmax = (0, 1000000, 0.01), k_x_min = (k_x[0], k_x[-1], 0.01), \n",
    "                 k_x_max = (k_x[0], k_x[-1], 0.01))"
   ]
  },
  {
   "cell_type": "code",
   "execution_count": 37,
   "id": "136654da",
   "metadata": {},
   "outputs": [
    {
     "data": {
      "application/vnd.jupyter.widget-view+json": {
       "model_id": "d39ff52407b14fcc8d9db61718280a1b",
       "version_major": 2,
       "version_minor": 0
      },
      "text/plain": [
       "interactive(children=(FloatSlider(value=622472.44, description='Vmax', max=1000000.0, step=0.01), FloatSlider(…"
      ]
     },
     "metadata": {},
     "output_type": "display_data"
    },
    {
     "data": {
      "text/plain": [
       "<function __main__.plt_plot(Vmax=622472.44, x1=-1.1926381598324156, x2=1.1926381598324156, y1=-2.066022544283414, y2=-0.10950080515297889)>"
      ]
     },
     "execution_count": 37,
     "metadata": {},
     "output_type": "execute_result"
    }
   ],
   "source": [
    "def plt_plot(Vmax = vmax2, x1 = k_y[0], x2 = k_y[-1], y1 = energy[0], y2 = energy[-1]):\n",
    "    surface1 = arp.plane_slice(map_data2.transpose([1, 0,2]), k_x, k_x1, k_x2)\n",
    "    plt.figure(figsize = (8, 6))\n",
    "    plt.imshow(surface1, aspect = \"auto\", vmax = Vmax, origin = 'lower', extent = [k_y[0], k_y[-1], energy[0], energy[-1]], cmap = 'gray')\n",
    "    plt.xlabel(\"Wavevector (k_y)\")\n",
    "    plt.ylabel(\"Energy\")\n",
    "    plt.colorbar()\n",
    "    \n",
    "    plt.xlim(x1, x2)\n",
    "    plt.ylim(y1, y2)\n",
    "    \n",
    "\n",
    "widgets.interact(plt_plot, Vmin = 0, Vmax = (0, 1000000, 0.01),\n",
    "                x1 = (k_y[0], k_y[-1], 0.01),\n",
    "                x2 = (k_y[0], k_y[-1], 0.01),\n",
    "                y1 = (energy[0], energy[-1], 0.01),\n",
    "                y2 = ((energy[0], energy[-1], 0.01)))"
   ]
  },
  {
   "cell_type": "markdown",
   "id": "422404d9",
   "metadata": {},
   "source": [
    "# Energy Vs K_X"
   ]
  },
  {
   "cell_type": "code",
   "execution_count": 30,
   "id": "a1e8f29e",
   "metadata": {},
   "outputs": [
    {
     "data": {
      "application/vnd.jupyter.widget-view+json": {
       "model_id": "a08a68459c2747498739c792af8de4ea",
       "version_major": 2,
       "version_minor": 0
      },
      "text/plain": [
       "interactive(children=(FloatSlider(value=35480.0, description='Vmax', max=100000.0, step=0.01), FloatSlider(val…"
      ]
     },
     "metadata": {},
     "output_type": "display_data"
    },
    {
     "data": {
      "text/plain": [
       "<function __main__.plt_plot(Vmax=35480, Pmin=-1, Pmax=2)>"
      ]
     },
     "execution_count": 30,
     "metadata": {},
     "output_type": "execute_result"
    }
   ],
   "source": [
    "def plt_plot(Vmax = 35480, Pmin = -1, Pmax = 2):\n",
    "    global pmin\n",
    "    global pmax\n",
    "    global vmax\n",
    "    \n",
    "    pmin3 = Pmin\n",
    "    pmax3 = Pmax\n",
    "    vmax3 = Vmax\n",
    "    \n",
    "    surface1 = arp.plane_slice(map_data2.transpose([2, 0, 1]), phi, Pmin, Pmax)\n",
    "    plt.figure(figsize = (8, 6))\n",
    "    plt.imshow(surface1, aspect = \"auto\", vmax = Vmax, origin = 'lower', extent = [k_x[0], k_x[-1], energy[0], energy[-1]], cmap = 'gray')\n",
    "    plt.xlabel(\"Wavevector (k_x)\")\n",
    "    plt.ylabel(\"Energy\")\n",
    "\n",
    "    #plt.xlim(-2, 2)\n",
    "    #plt.ylim(-1.3, -0.25)\n",
    "    plt.colorbar()\n",
    "    \n",
    "    \n",
    "\n",
    "widgets.interact(plt_plot, Vmin = 0, Vmax = (0, 100000, 0.01), Pmin = (phi[0], phi[-1], 0.01), \n",
    "                 Pmax = (phi[0], phi[-1], 0.01))"
   ]
  },
  {
   "cell_type": "code",
   "execution_count": 31,
   "id": "19559336",
   "metadata": {},
   "outputs": [
    {
     "data": {
      "application/vnd.jupyter.widget-view+json": {
       "model_id": "b966bc095b1340328b81e30504298707",
       "version_major": 2,
       "version_minor": 0
      },
      "text/plain": [
       "interactive(children=(FloatSlider(value=66925.67000000001, description='Vmax', max=100000.0, step=0.01), Float…"
      ]
     },
     "metadata": {},
     "output_type": "display_data"
    },
    {
     "data": {
      "text/plain": [
       "<function __main__.plt_plot(Vmax=66925.67000000001, x1=-4.504441695914476, x2=4.491807287242438, y1=-2.066022544283414, y2=-0.10950080515297889)>"
      ]
     },
     "execution_count": 31,
     "metadata": {},
     "output_type": "execute_result"
    }
   ],
   "source": [
    "def plt_plot(Vmax = vmax3, x1 = k_x[0], x2 = k_x[-1], y1 = energy[0], y2 = energy[-1]):\n",
    "    surface1 = arp.plane_slice(map_data2.transpose([2, 0, 1]), phi, pmin3, pmax3)\n",
    "    plt.figure(figsize = (8, 6))\n",
    "    plt.imshow(surface1, aspect = \"auto\", vmax = Vmax, origin = 'lower', extent = [k_x[0], k_x[-1], energy[0], energy[-1]], cmap = 'gray')\n",
    "    plt.xlabel(\"Wavevector (k_x)\")\n",
    "    plt.ylabel(\"Energy\")\n",
    "    \n",
    "    plt.xlim(x1, x2)\n",
    "    plt.ylim(y1, y2)\n",
    "    \n",
    "    plt.colorbar()\n",
    "    \n",
    "    \n",
    "\n",
    "widgets.interact(plt_plot, Vmin = 0, Vmax = (0, 100000, 0.01), \n",
    "                 x1 = (k_x[0], k_x[-1], 0.01), \n",
    "                 x2 = (k_x[0], k_x[-1], 0.01), \n",
    "                 y1 = (energy[0], energy[-1], 0.01),\n",
    "                 y2 = (energy[0], energy[-1], 0.01))"
   ]
  },
  {
   "cell_type": "markdown",
   "id": "1dbbda49",
   "metadata": {},
   "source": [
    "# 1D Images"
   ]
  },
  {
   "cell_type": "markdown",
   "id": "02338e41",
   "metadata": {},
   "source": [
    "# Intesity Vs. K_Y"
   ]
  },
  {
   "cell_type": "code",
   "execution_count": 83,
   "id": "4c71189b",
   "metadata": {},
   "outputs": [
    {
     "data": {
      "application/vnd.jupyter.widget-view+json": {
       "model_id": "dd06caf9b1874fedba668bbbc8cb64cc",
       "version_major": 2,
       "version_minor": 0
      },
      "text/plain": [
       "interactive(children=(FloatSlider(value=1.0, description='k_x1', max=4.491807287242438, min=-4.504441695914476…"
      ]
     },
     "metadata": {},
     "output_type": "display_data"
    },
    {
     "data": {
      "text/plain": [
       "<function __main__.plot1d(k_x1=1, k_x2=2)>"
      ]
     },
     "execution_count": 83,
     "metadata": {},
     "output_type": "execute_result"
    }
   ],
   "source": [
    "def plot1d(k_x1 = 1, k_x2 = 2):\n",
    "    surface = arp.plane_slice(map_data2, energy, emin1, emax2)\n",
    "    ky_line = arp.line_profile(surface.T, k_x, k_x1, k_x2)\n",
    "    print(ky_line.shape)\n",
    "    plt.plot(k_y, ky_line/max(ky_line))\n",
    "    plt.ylabel(\"INTENSITY\")\n",
    "    plt.xlabel(\"Wavevector(k_y)\")\n",
    "    plt.show()\n",
    "\n",
    "widgets.interact(plot1d, k_x1 = (k_x[0], k_x[-1], 0.01), k_x2= (k_x[0], k_x[-1], 0.01))"
   ]
  },
  {
   "cell_type": "markdown",
   "id": "6a63d94a",
   "metadata": {},
   "source": [
    "# INTENSITY VS. K_X"
   ]
  },
  {
   "cell_type": "code",
   "execution_count": 69,
   "id": "db4e1019",
   "metadata": {},
   "outputs": [
    {
     "data": {
      "application/vnd.jupyter.widget-view+json": {
       "model_id": "bb38d7bc2ea045f98b85cabab1cb9ff8",
       "version_major": 2,
       "version_minor": 0
      },
      "text/plain": [
       "interactive(children=(FloatSlider(value=1.0, description='k_y1', max=1.1926381598324156, min=-1.19263815983241…"
      ]
     },
     "metadata": {},
     "output_type": "display_data"
    },
    {
     "data": {
      "text/plain": [
       "<function __main__.plot1d(k_y1=1, k_y2=2)>"
      ]
     },
     "execution_count": 69,
     "metadata": {},
     "output_type": "execute_result"
    }
   ],
   "source": [
    "def plot1d(k_y1 = 1, k_y2 = 2):\n",
    "    surface = arp.plane_slice(map_data2, energy, emin1, emax2)\n",
    "    kx_line = arp.line_profile(surface, k_y, k_y1, k_y2)\n",
    "    print(kx_line.shape)\n",
    "    plt.plot(k_x, kx_line/max(kx_line))\n",
    "    plt.ylabel(\"INTENSITY\")\n",
    "    plt.xlabel(\"Wavevector(k_x)\")\n",
    "    plt.show()\n",
    "\n",
    "widgets.interact(plot1d, k_y1 = (k_y[0], k_y[-1], 0.01), k_y2= (k_y[0], k_y[-1], 0.01))"
   ]
  },
  {
   "cell_type": "markdown",
   "id": "af25cd95",
   "metadata": {},
   "source": [
    "# Intensity Vs. E"
   ]
  },
  {
   "cell_type": "code",
   "execution_count": 77,
   "id": "0c62229a",
   "metadata": {},
   "outputs": [
    {
     "data": {
      "application/vnd.jupyter.widget-view+json": {
       "model_id": "94dbf5ff66ca4acab6bfb712d6a21b27",
       "version_major": 2,
       "version_minor": 0
      },
      "text/plain": [
       "interactive(children=(FloatSlider(value=1.08, description='k_y1', max=1.1926381598324156, min=-1.1926381598324…"
      ]
     },
     "metadata": {},
     "output_type": "display_data"
    },
    {
     "data": {
      "text/plain": [
       "<function __main__.plot1d(k_y1=1.08, k_y2=1.19)>"
      ]
     },
     "execution_count": 77,
     "metadata": {},
     "output_type": "execute_result"
    }
   ],
   "source": [
    "def plot1d(k_y1 = 1.08, k_y2 = 1.19):\n",
    "    surface = arp.plane_slice(map_data2.transpose([1, 0, 2]), k_x, k_x1, k_x2)\n",
    "    energy_line = arp.line_profile(surface, k_y, k_y1, k_y2)\n",
    "    print(energy_line.shape)\n",
    "    plt.plot(energy, energy_line/max(energy_line))\n",
    "    plt.ylabel(\"INTENSITY\")\n",
    "    plt.xlabel(\"Energy (eV))\")\n",
    "    plt.show()\n",
    "\n",
    "widgets.interact(plot1d, k_y1 = (k_y[0], k_y[-1], 0.01), k_y2= (k_y[0], k_y[-1], 0.01))"
   ]
  },
  {
   "cell_type": "markdown",
   "id": "36630a11",
   "metadata": {},
   "source": [
    "# WATERFALL PLOTS"
   ]
  }
 ],
 "metadata": {
  "kernelspec": {
   "display_name": "Python 3 (ipykernel)",
   "language": "python",
   "name": "python3"
  },
  "language_info": {
   "codemirror_mode": {
    "name": "ipython",
    "version": 3
   },
   "file_extension": ".py",
   "mimetype": "text/x-python",
   "name": "python",
   "nbconvert_exporter": "python",
   "pygments_lexer": "ipython3",
   "version": "3.11.4"
  }
 },
 "nbformat": 4,
 "nbformat_minor": 5
}
